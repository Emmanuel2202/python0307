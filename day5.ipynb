{
 "cells": [
  {
   "cell_type": "code",
   "execution_count": 1,
   "metadata": {},
   "outputs": [
    {
     "name": "stdout",
     "output_type": "stream",
     "text": [
      "p\n",
      "y\n",
      "t\n",
      "h\n",
      "o\n",
      "n\n"
     ]
    }
   ],
   "source": [
    "word = 'python'\n",
    "for char in word:\n",
    "    print(char)"
   ]
  },
  {
   "cell_type": "code",
   "execution_count": 2,
   "metadata": {},
   "outputs": [
    {
     "name": "stdout",
     "output_type": "stream",
     "text": [
      "pppp\n",
      "yyyy\n",
      "tttt\n",
      "hhhh\n",
      "oooo\n",
      "nnnn\n"
     ]
    }
   ],
   "source": [
    "word = 'python'\n",
    "for char in word:\n",
    "    print(char * 4)"
   ]
  },
  {
   "cell_type": "code",
   "execution_count": 7,
   "metadata": {},
   "outputs": [
    {
     "name": "stdout",
     "output_type": "stream",
     "text": [
      "pppp\n",
      "yyyy\n"
     ]
    }
   ],
   "source": [
    "word = 'python'\n",
    "for char in word:\n",
    "    if char == 'p':\n",
    "        print(char * 4)\n",
    "    elif char == 'y':\n",
    "        print(char * 4)"
   ]
  },
  {
   "cell_type": "code",
   "execution_count": 8,
   "metadata": {},
   "outputs": [
    {
     "name": "stdout",
     "output_type": "stream",
     "text": [
      "The sqrt of 25 is 5.0\n",
      "The sqrt of 89 is 9.433981132056603\n",
      "The sqrt of 74 is 8.602325267042627\n",
      "The sqrt of 58 is 7.615773105863909\n",
      "The sqrt of 20 is 4.47213595499958\n",
      "The sqrt of 35 is 5.916079783099616\n",
      "The sqrt of 40 is 6.324555320336759\n"
     ]
    }
   ],
   "source": [
    "numbers = [25,89,74,58,20,35,40]\n",
    "import math\n",
    "for num in numbers:\n",
    "    print(f'The sqrt of {num} is {math.sqrt(num)}')"
   ]
  },
  {
   "cell_type": "code",
   "execution_count": 9,
   "metadata": {},
   "outputs": [
    {
     "name": "stdout",
     "output_type": "stream",
     "text": [
      "James : 80\n",
      "Mary : 90\n",
      "Jane : 70\n",
      "Seyi : 58\n",
      "Winnie : 85\n"
     ]
    }
   ],
   "source": [
    "score = {\n",
    "    'James':80,\n",
    "    'Mary':90,\n",
    "    'Jane':70,\n",
    "    'Seyi':58,\n",
    "    'Winnie':85\n",
    "}\n",
    "for key,value in score.items():\n",
    "    print(key,':',value)"
   ]
  },
  {
   "cell_type": "code",
   "execution_count": 19,
   "metadata": {},
   "outputs": [
    {
     "name": "stdout",
     "output_type": "stream",
     "text": [
      "James : 80\n",
      "Mary : 90\n"
     ]
    }
   ],
   "source": [
    "score = {\n",
    "    'James':80,\n",
    "    'Mary':90,\n",
    "    'Jane':70,\n",
    "    'Seyi':58,\n",
    "    'Winnie':85\n",
    "}\n",
    "for key in score:\n",
    "    if key == 'Jane':\n",
    "        break\n",
    "    print(key,':',score[key])\n",
    "    \n",
    "    "
   ]
  },
  {
   "cell_type": "code",
   "execution_count": 20,
   "metadata": {},
   "outputs": [
    {
     "name": "stdout",
     "output_type": "stream",
     "text": [
      "15\n",
      "16\n",
      "17\n",
      "18\n",
      "19\n",
      "20\n"
     ]
    }
   ],
   "source": [
    "for i in range(15,21):\n",
    "    print(i)"
   ]
  },
  {
   "cell_type": "code",
   "execution_count": 22,
   "metadata": {},
   "outputs": [
    {
     "name": "stdout",
     "output_type": "stream",
     "text": [
      "Please provide a number25\n",
      "25 x 1 = 25\n",
      "25 x 2 = 50\n",
      "25 x 3 = 75\n",
      "25 x 4 = 100\n",
      "25 x 5 = 125\n",
      "25 x 6 = 150\n",
      "25 x 7 = 175\n",
      "25 x 8 = 200\n",
      "25 x 9 = 225\n",
      "25 x 10 = 250\n",
      "25 x 11 = 275\n",
      "25 x 12 = 300\n"
     ]
    }
   ],
   "source": [
    "num = int(input('Please provide a number'))\n",
    "for i in range(1,13):\n",
    "    print(f'{num} x {i} = {num*i}')"
   ]
  },
  {
   "cell_type": "code",
   "execution_count": 25,
   "metadata": {},
   "outputs": [
    {
     "name": "stdout",
     "output_type": "stream",
     "text": [
      "[62, 57, 67, 56, 70, 50, 55, 64, 56, 54, 50, 70, 74, 57, 72, 67, 55, 75, 64, 52, 69, 53, 71, 58, 71, 72, 57, 57, 68, 75, 58, 50, 64, 55, 50, 66, 75, 57, 67, 57, 65, 63, 73, 50, 73, 72, 51, 75, 72, 58, 61, 54, 72, 62, 53, 55, 67, 62, 71, 67, 68, 67, 72, 65, 60, 64, 70, 55, 72, 56, 70, 74, 60, 62, 64, 71, 75, 65, 69, 63, 69, 74, 61, 50, 63, 75, 71, 56, 62, 57, 55, 73, 73, 61, 69, 50, 70, 55, 64, 57]\n"
     ]
    }
   ],
   "source": [
    "import random\n",
    "numbers = []\n",
    "counter = 1\n",
    "while counter <= 100:\n",
    "    num = random.randint(50,75)\n",
    "    numbers.append(num)\n",
    "    counter = counter + 1\n",
    "print(numbers)"
   ]
  },
  {
   "cell_type": "code",
   "execution_count": 29,
   "metadata": {},
   "outputs": [
    {
     "name": "stdout",
     "output_type": "stream",
     "text": [
      "Player1:2\n",
      "Player2:6\n",
      "Player 2 wins\n",
      "Player1:2\n",
      "Player2:3\n",
      "Player 2 wins\n",
      "Player1:2\n",
      "Player2:1\n",
      "Player 1 wins\n",
      "Player1:1\n",
      "Player2:1\n",
      "It is a draw\n",
      "Player1:6\n",
      "Player2:6\n",
      "It is a draw\n",
      "Player1:1\n",
      "Player2:3\n",
      "Player 2 wins\n",
      "Player1:6\n",
      "Player2:2\n",
      "Player 1 wins\n",
      "Player1:4\n",
      "Player2:6\n",
      "Player 2 wins\n",
      "Player1:4\n",
      "Player2:1\n",
      "Player 1 wins\n",
      "Player1:6\n",
      "Player2:5\n",
      "Player 1 wins\n",
      "The total point for player 1 is 8\n",
      "The total point for player 2 is 8\n",
      "It is a draw\n"
     ]
    }
   ],
   "source": [
    "'''\n",
    "A dice Game that will be simulated 10 times for two players\n",
    "for every iteration of the game \n",
    "if player1 wins 2 point will be given\n",
    "if player2 wins 2 point will be give\n",
    "else if it is a draw no point will be give\n",
    "\n",
    "'''\n",
    "import random #For generating  numbers for the dice\n",
    "\n",
    "\n",
    "\n",
    "#Declearing a variable to hold the  point for player1 and player2\n",
    "PLAYER_1_SCORE = 0\n",
    "PLAYER_2_SCORE = 0\n",
    "\n",
    "for i in range(1,11):\n",
    "    # Generating dice for player1 and player2\n",
    "    PLAYER1 = random.randint(1,6)\n",
    "    PLAYER2 = random.randint(1,6)\n",
    "    if PLAYER1 > PLAYER2:\n",
    "        print(f'Player1:{PLAYER1}')\n",
    "        print(f'Player2:{PLAYER2}')\n",
    "        print(f'Player 1 wins')\n",
    "        PLAYER_1_SCORE = PLAYER_1_SCORE + 2\n",
    "    elif PLAYER2 > PLAYER1:\n",
    "        print(f'Player1:{PLAYER1}')\n",
    "        print(f'Player2:{PLAYER2}')\n",
    "        print(f'Player 2 wins')\n",
    "        PLAYER_2_SCORE = PLAYER_2_SCORE + 2\n",
    "    else:\n",
    "        print(f'Player1:{PLAYER1}')\n",
    "        print(f'Player2:{PLAYER2}')\n",
    "        print('It is a draw')\n",
    "    \n",
    "    \n",
    "print(f'The total point for player 1 is {PLAYER_1_SCORE}')\n",
    "print(f'The total point for player 2 is {PLAYER_2_SCORE}')\n",
    "if PLAYER_1_SCORE > PLAYER_2_SCORE:\n",
    "    print('Player 1 is the overall winner')\n",
    "elif PLAYER_2_SCORE > PLAYER_1_SCORE:\n",
    "    print('Player 2 is the overall winner')\n",
    "else:\n",
    "    print('It is a draw')"
   ]
  },
  {
   "cell_type": "code",
   "execution_count": null,
   "metadata": {},
   "outputs": [],
   "source": []
  }
 ],
 "metadata": {
  "kernelspec": {
   "display_name": "Python 3",
   "language": "python",
   "name": "python3"
  },
  "language_info": {
   "codemirror_mode": {
    "name": "ipython",
    "version": 3
   },
   "file_extension": ".py",
   "mimetype": "text/x-python",
   "name": "python",
   "nbconvert_exporter": "python",
   "pygments_lexer": "ipython3",
   "version": "3.8.5"
  }
 },
 "nbformat": 4,
 "nbformat_minor": 4
}

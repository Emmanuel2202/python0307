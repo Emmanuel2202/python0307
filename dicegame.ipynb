{
 "cells": [
  {
   "cell_type": "code",
   "execution_count": null,
   "metadata": {},
   "outputs": [],
   "source": [
    "'''A dice Game that will be simulated 10 times for two players\n",
    "for every iteration of the game \n",
    "if player1 wins 2 point will be given\n",
    "if player2 wins 2 point will be give\n",
    "else if it is a draw no point will be give'''\n",
    "import random #For generating  numbers for the dice\n",
    "#Declearing a variable to hold the  point for player1 and player2\n",
    "PLAYER_1_SCORE = 0\n",
    "PLAYER_2_SCORE = 0\n",
    "for i in range(1,11):\n",
    "    # Generating dice for player1 and player2\n",
    "    PLAYER1 = random.randint(1,6)\n",
    "    PLAYER2 = random.randint(1,6)\n",
    "    if PLAYER1 > PLAYER2:\n",
    "        print(f'Player1:{PLAYER1}')\n",
    "        print(f'Player2:{PLAYER2}')\n",
    "        print(f'Player 1 wins')\n",
    "        PLAYER_1_SCORE = PLAYER_1_SCORE + 2\n",
    "    elif PLAYER2 > PLAYER1:\n",
    "        print(f'Player1:{PLAYER1}')\n",
    "        print(f'Player2:{PLAYER2}')\n",
    "        print(f'Player 2 wins')\n",
    "        PLAYER_2_SCORE = PLAYER_2_SCORE + 2\n",
    "    else:\n",
    "        print(f'Player1:{PLAYER1}')\n",
    "        print(f'Player2:{PLAYER2}')\n",
    "        print('It is a draw')\n",
    "    \n",
    "print(f'The total point for player 1 is {PLAYER_1_SCORE}')\n",
    "print(f'The total point for player 2 is {PLAYER_2_SCORE}')\n",
    "if PLAYER_1_SCORE > PLAYER_2_SCORE:\n",
    "    print('Player 1 is the overall winner')\n",
    "elif PLAYER_2_SCORE > PLAYER_1_SCORE:\n",
    "    print('Player 2 is the overall winner')\n",
    "else:\n",
    "    print('It is a draw')"
   ]
  }
 ],
 "metadata": {
  "kernelspec": {
   "display_name": "Python 3",
   "language": "python",
   "name": "python3"
  },
  "language_info": {
   "codemirror_mode": {
    "name": "ipython",
    "version": 3
   },
   "file_extension": ".py",
   "mimetype": "text/x-python",
   "name": "python",
   "nbconvert_exporter": "python",
   "pygments_lexer": "ipython3",
   "version": "3.8.5"
  }
 },
 "nbformat": 4,
 "nbformat_minor": 4
}

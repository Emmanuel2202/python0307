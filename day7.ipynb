{
 "cells": [
  {
   "cell_type": "code",
   "execution_count": 1,
   "metadata": {},
   "outputs": [
    {
     "data": {
      "text/plain": [
       "16777216"
      ]
     },
     "execution_count": 1,
     "metadata": {},
     "output_type": "execute_result"
    }
   ],
   "source": [
    "(lambda x: x**x)(8)"
   ]
  },
  {
   "cell_type": "code",
   "execution_count": 6,
   "metadata": {},
   "outputs": [
    {
     "data": {
      "text/plain": [
       "'Num1 is oldest'"
      ]
     },
     "execution_count": 6,
     "metadata": {},
     "output_type": "execute_result"
    }
   ],
   "source": [
    "(lambda num1,num2: 'Num1 is oldest' if num1 >num2  else 'num2 is oldest' )(25,8,)"
   ]
  },
  {
   "cell_type": "markdown",
   "metadata": {},
   "source": [
    "# exercise 1\n",
    "# write a lambda function to check if a give name start with upper case S"
   ]
  },
  {
   "cell_type": "code",
   "execution_count": 7,
   "metadata": {},
   "outputs": [
    {
     "name": "stdout",
     "output_type": "stream",
     "text": [
      "please enter your nameade\n"
     ]
    },
    {
     "data": {
      "text/plain": [
       "'ade does not start with upper case s'"
      ]
     },
     "execution_count": 7,
     "metadata": {},
     "output_type": "execute_result"
    }
   ],
   "source": [
    "(lambda name: f'{name} starts with upper case S' if name.startswith('S') else f'{name} does not start with upper case s')(input('please enter your name'))"
   ]
  },
  {
   "cell_type": "code",
   "execution_count": 11,
   "metadata": {},
   "outputs": [
    {
     "name": "stdout",
     "output_type": "stream",
     "text": [
      "[60, 60, 58, 57, 54, 52, 57, 60, 60, 49, 59, 47, 56, 50, 59, 54, 49, 58, 57, 49, 54, 60, 60, 55, 59, 47, 57, 52, 45, 54, 55, 57, 50, 46, 55, 46, 51, 47, 47, 51, 46, 50, 53, 52, 48, 48, 51, 57, 55, 60]\n"
     ]
    }
   ],
   "source": [
    "import random\n",
    "numbers = []\n",
    "counter =1\n",
    "while counter <= 50:\n",
    "    num = random.randint(45,60)\n",
    "    numbers.append(num)\n",
    "    counter +=1\n",
    "print(numbers)"
   ]
  },
  {
   "cell_type": "code",
   "execution_count": 9,
   "metadata": {},
   "outputs": [
    {
     "name": "stdout",
     "output_type": "stream",
     "text": [
      "[7.416198487095663, 7.0, 7.416198487095663, 7.615773105863909, 7.280109889280518, 7.280109889280518, 7.211102550927978, 6.708203932499369, 6.928203230275509, 7.745966692414834, 7.3484692283495345, 6.782329983125268, 7.3484692283495345, 7.280109889280518, 7.280109889280518, 7.211102550927978, 6.782329983125268, 7.280109889280518, 7.280109889280518, 7.615773105863909, 7.483314773547883, 7.745966692414834, 7.681145747868608, 7.483314773547883, 7.14142842854285, 6.855654600401044, 7.211102550927978, 7.0710678118654755, 7.416198487095663, 7.483314773547883, 6.782329983125268, 7.615773105863909, 7.54983443527075, 7.615773105863909, 7.211102550927978, 6.928203230275509, 7.54983443527075, 7.416198487095663, 7.0, 6.708203932499369, 6.782329983125268, 7.3484692283495345, 7.0710678118654755, 6.928203230275509, 7.0, 7.416198487095663, 6.855654600401044, 7.14142842854285, 7.0, 7.280109889280518]\n"
     ]
    }
   ],
   "source": [
    "import math  \n",
    "sqrtnum = list(map(lambda x: math.sqrt(x),numbers))\n",
    "print(sqrtnum)"
   ]
  },
  {
   "cell_type": "code",
   "execution_count": 12,
   "metadata": {},
   "outputs": [
    {
     "name": "stdout",
     "output_type": "stream",
     "text": [
      "[60, 60, 58, 57, 54, 52, 57, 60, 60, 49, 59, 47, 56, 50, 59, 54, 49, 58, 57, 49, 54, 60, 60, 55, 59, 47, 57, 52, 54, 55, 57, 50, 46, 55, 46, 51, 47, 47, 51, 46, 50, 53, 52, 48, 48, 51, 57, 55, 60]\n"
     ]
    }
   ],
   "source": [
    "sqrtnum2 = list(filter(lambda x:x >45,numbers))\n",
    "print(sqrtnum2)"
   ]
  },
  {
   "cell_type": "markdown",
   "metadata": {},
   "source": [
    "# Exericse 2 \n",
    "# generate  100 numbers between 55 and 80\n",
    "# modify this numbers by finding their sin \n",
    "# filter this numbers by selectinhg out the even and the odd number"
   ]
  },
  {
   "cell_type": "code",
   "execution_count": null,
   "metadata": {},
   "outputs": [],
   "source": []
  }
 ],
 "metadata": {
  "kernelspec": {
   "display_name": "Python 3",
   "language": "python",
   "name": "python3"
  },
  "language_info": {
   "codemirror_mode": {
    "name": "ipython",
    "version": 3
   },
   "file_extension": ".py",
   "mimetype": "text/x-python",
   "name": "python",
   "nbconvert_exporter": "python",
   "pygments_lexer": "ipython3",
   "version": "3.8.5"
  }
 },
 "nbformat": 4,
 "nbformat_minor": 4
}

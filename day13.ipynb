{
 "cells": [
  {
   "cell_type": "code",
   "execution_count": 1,
   "metadata": {},
   "outputs": [],
   "source": [
    "class person:\n",
    "    attr1 = 'Simeon'\n",
    "    attr2 = 'vote'\n",
    "obj = person()"
   ]
  },
  {
   "cell_type": "code",
   "execution_count": 2,
   "metadata": {},
   "outputs": [
    {
     "data": {
      "text/plain": [
       "'Simeon'"
      ]
     },
     "execution_count": 2,
     "metadata": {},
     "output_type": "execute_result"
    }
   ],
   "source": [
    "obj.attr1"
   ]
  },
  {
   "cell_type": "code",
   "execution_count": 4,
   "metadata": {},
   "outputs": [],
   "source": [
    "class person:\n",
    "    def __init__(self,name,color,height,weight):\n",
    "        self.name = name\n",
    "        self.color = color\n",
    "        self.height = height\n",
    "        self.weight = weight\n",
    "    def talk(self):\n",
    "        print(f'My name is {self.name}')\n",
    "    def vote(self,age):\n",
    "        if age >= 18:\n",
    "            print('Hey you are eligible to vote')\n",
    "        else:\n",
    "            print('Opps you are not eligble to vote')\n",
    "person1 = person('Simeon','Fair',1.82,69)"
   ]
  },
  {
   "cell_type": "code",
   "execution_count": 8,
   "metadata": {},
   "outputs": [
    {
     "name": "stdout",
     "output_type": "stream",
     "text": [
      "My name is Simeon\n",
      "None\n",
      "Hey you are eligible to vote\n",
      "None\n"
     ]
    }
   ],
   "source": [
    "print(person1.talk())\n",
    "print(person1.vote(45))"
   ]
  },
  {
   "cell_type": "code",
   "execution_count": 9,
   "metadata": {},
   "outputs": [],
   "source": [
    "# Using class and object write a program to build a car game simulation with the following attribute\n",
    "###  Brand, Model, color, Year and speed\n",
    "# Having the following method\n",
    "### start, gear(write a condition to performe change of gear operation), \n",
    "### nitro(write a condition to engage or disengage the nitro) and stop\n",
    "# create an object to perform this functions"
   ]
  },
  {
   "cell_type": "code",
   "execution_count": 13,
   "metadata": {},
   "outputs": [],
   "source": [
    "class carsimu:\n",
    "    def __init__(self,Brand, Model, color, Year ,speed):\n",
    "        self.Brand = Brand\n",
    "        self.Model = Model\n",
    "        self.color = color\n",
    "        self.Year = Year\n",
    "        self.speed = speed\n",
    "    def start(self):\n",
    "        print(f'{self.Brand} {self.Model} has started')\n",
    "\n",
    "    def gear(self,choice):\n",
    "        if choice ==1:\n",
    "            print('Gear changed to 1')\n",
    "        elif choice ==2:\n",
    "            print('Gear changed to 2')\n",
    "        elif choice ==3:\n",
    "            print('Gear changed to 3')\n",
    "        elif choice ==4:\n",
    "            print('Gear changed to 4')\n",
    "        elif choice ==5:\n",
    "            print('Gear changed to 5')\n",
    "        elif choice ==6:\n",
    "            print('Gear put on reverse')\n",
    "    def nitro(self,choice):\n",
    "        if choice == 1:\n",
    "            print('Nitro engaged')\n",
    "        elif choice == 2:\n",
    "            print('Nitro Disengaged')\n",
    "    def stop(self):\n",
    "        print(f'{self.Brand} {self.Model} has stopped')\n",
    "\n",
    "\n",
    "car1 = carsimu('Mercede Benz','GLK','Black',2019,250)"
   ]
  },
  {
   "cell_type": "code",
   "execution_count": 14,
   "metadata": {},
   "outputs": [
    {
     "name": "stdout",
     "output_type": "stream",
     "text": [
      "Mercede Benz GLK has started\n",
      "None\n",
      "Gear changed to 4\n",
      "None\n",
      "Nitro engaged\n",
      "None\n",
      "Mercede Benz GLK has stopped\n",
      "None\n"
     ]
    }
   ],
   "source": [
    "print(car1.start())\n",
    "print(car1.gear(4))\n",
    "print(car1.nitro(1))\n",
    "print(car1.stop())"
   ]
  },
  {
   "cell_type": "markdown",
   "metadata": {},
   "source": []
  },
  {
   "cell_type": "markdown",
   "metadata": {},
   "source": []
  },
  {
   "cell_type": "code",
   "execution_count": 15,
   "metadata": {},
   "outputs": [],
   "source": [
    "class carsimu2(carsimu):\n",
    "    def openroof(self,choice):\n",
    "        if choice == 1:\n",
    "            print('Roof is opened')\n",
    "\n",
    "        elif choice == 2:\n",
    "            print('Roof closed')\n",
    "car2 = carsimu2('Mercede Benz','A6','White',2021,350)\n"
   ]
  },
  {
   "cell_type": "code",
   "execution_count": 16,
   "metadata": {},
   "outputs": [
    {
     "name": "stdout",
     "output_type": "stream",
     "text": [
      "Mercede Benz A6 has started\n",
      "None\n",
      "Gear changed to 4\n",
      "None\n",
      "Nitro engaged\n",
      "None\n",
      "Mercede Benz A6 has stopped\n",
      "None\n"
     ]
    }
   ],
   "source": [
    "print(car2.start())\n",
    "print(car2.gear(4))\n",
    "print(car2.nitro(1))\n",
    "print(car2.stop())"
   ]
  },
  {
   "cell_type": "code",
   "execution_count": null,
   "metadata": {},
   "outputs": [],
   "source": []
  }
 ],
 "metadata": {
  "interpreter": {
   "hash": "9bf2ca0f4a7adc3ce2f237ca763c1538d3ef289a4e7face3612a01cdae9f6807"
  },
  "kernelspec": {
   "display_name": "Python 3.10.2 64-bit",
   "language": "python",
   "name": "python3"
  },
  "language_info": {
   "codemirror_mode": {
    "name": "ipython",
    "version": 3
   },
   "file_extension": ".py",
   "mimetype": "text/x-python",
   "name": "python",
   "nbconvert_exporter": "python",
   "pygments_lexer": "ipython3",
   "version": "3.10.2"
  },
  "orig_nbformat": 4
 },
 "nbformat": 4,
 "nbformat_minor": 2
}

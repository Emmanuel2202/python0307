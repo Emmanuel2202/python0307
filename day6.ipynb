{
 "cells": [
  {
   "cell_type": "code",
   "execution_count": 3,
   "metadata": {},
   "outputs": [
    {
     "name": "stdout",
     "output_type": "stream",
     "text": [
      "Welcome to python class\n"
     ]
    }
   ],
   "source": [
    "def greet():# a function without a parameter or an arguement\n",
    "    print('Welcome to python class')\n",
    "greet()"
   ]
  },
  {
   "cell_type": "code",
   "execution_count": 5,
   "metadata": {},
   "outputs": [
    {
     "name": "stdout",
     "output_type": "stream",
     "text": [
      "Welcome to python class Simeon\n"
     ]
    }
   ],
   "source": [
    "def greet2(name):# a function with a parameter or an arguement\n",
    "    print(f'Welcome to python class {name}')\n",
    "greet2('Simeon')"
   ]
  },
  {
   "cell_type": "code",
   "execution_count": 6,
   "metadata": {},
   "outputs": [
    {
     "name": "stdout",
     "output_type": "stream",
     "text": [
      "Welcome to python class Ade\n"
     ]
    }
   ],
   "source": [
    "greet2('Ade')"
   ]
  },
  {
   "cell_type": "code",
   "execution_count": 8,
   "metadata": {},
   "outputs": [
    {
     "name": "stdout",
     "output_type": "stream",
     "text": [
      "Plese provide your nameSimeon\n",
      "Plese provide your genderMale\n",
      "Plese provide your Age15\n",
      "Welcome to our presidential election Simeon\n",
      "OPPS, You are not eligible to vote\n"
     ]
    }
   ],
   "source": [
    "def votingsys(name,gender,age):\n",
    "    print(f'Welcome to our presidential election {name}')\n",
    "    \n",
    "    if age >= 18:\n",
    "        print('Congratulations you are eligble to vote proceed to the po')\n",
    "    else:\n",
    "        print('OPPS, You are not eligible to vote')\n",
    "votingsys(input('Plese provide your name:'),input('Plese provide your gender:'),int(input('Plese provide your Age:')))"
   ]
  },
  {
   "cell_type": "code",
   "execution_count": 9,
   "metadata": {},
   "outputs": [
    {
     "name": "stdout",
     "output_type": "stream",
     "text": [
      "Welcome to our election Ade\n",
      "Congratulations you are eligible to vote please proceed to the PO\n"
     ]
    }
   ],
   "source": [
    "def votesys(name,gender,age = 18):\n",
    "    print(f'Welcome to our election {name}')\n",
    "    \n",
    "    if age >=18:\n",
    "        print('Congratulations you are eligible to vote please proceed to the PO')\n",
    "    else:\n",
    "        print('OOPS, you are not eligble to vote')\n",
    "        \n",
    "votesys('Ade','Male')"
   ]
  },
  {
   "cell_type": "code",
   "execution_count": 10,
   "metadata": {},
   "outputs": [
    {
     "name": "stdout",
     "output_type": "stream",
     "text": [
      "Welcome to our election Ade\n",
      "OOPS, you are not eligble to vote\n"
     ]
    }
   ],
   "source": [
    "votesys('Ade','Male',15)"
   ]
  },
  {
   "cell_type": "markdown",
   "metadata": {},
   "source": [
    "# Exercise 1\n",
    "# A man gained 25% by selling an article for 800 write a function to find the cost price of the article\n",
    "\n",
    "# Exercise 2\n",
    "# A hat bought at 250 was sold at a loss of 15%. what is the selling price\n",
    "\n",
    "# Exercise 3 \n",
    "# if the cost price of 5 oranges is 40 and the selling price is 55 find the percentage gain\n"
   ]
  },
  {
   "cell_type": "code",
   "execution_count": 22,
   "metadata": {},
   "outputs": [
    {
     "name": "stdout",
     "output_type": "stream",
     "text": [
      "The cost price of the article is 640.0\n"
     ]
    }
   ],
   "source": [
    "def articleprice():\n",
    "    sp = 800\n",
    "    per = (100/125) \n",
    "    cp = sp*per\n",
    "    print(f'The cost price of the article is {cp}')\n",
    "articleprice()"
   ]
  },
  {
   "cell_type": "code",
   "execution_count": 24,
   "metadata": {},
   "outputs": [
    {
     "name": "stdout",
     "output_type": "stream",
     "text": [
      "The selling price is 212.5\n"
     ]
    }
   ],
   "source": [
    "def hat():\n",
    "    cp =250\n",
    "    loss =(15/100) * (250/1)\n",
    "    sp = cp - loss\n",
    "    print(f'The selling price is {sp}')\n",
    "hat()"
   ]
  },
  {
   "cell_type": "code",
   "execution_count": 25,
   "metadata": {},
   "outputs": [
    {
     "name": "stdout",
     "output_type": "stream",
     "text": [
      "The gain percentage is 37.5%\n"
     ]
    }
   ],
   "source": [
    "def orangegainper():\n",
    "    sp = 55\n",
    "    cp = 40\n",
    "    gain = sp - cp\n",
    "    gainper = (gain/cp) * 100\n",
    "    print(f'The gain percentage is {gainper}%')\n",
    "orangegainper()"
   ]
  },
  {
   "cell_type": "code",
   "execution_count": 26,
   "metadata": {},
   "outputs": [
    {
     "name": "stdout",
     "output_type": "stream",
     "text": [
      "<class 'tuple'>\n",
      "The average point of args is 57.357142857142854\n"
     ]
    }
   ],
   "source": [
    "def avg(*args):\n",
    "    print(type(args))\n",
    "    print(f'The average point of args is {sum(args)/len(args)}')\n",
    "avg(47,58,59,85,12,35,89,74,78,98,10,14,55,89)"
   ]
  },
  {
   "cell_type": "code",
   "execution_count": 28,
   "metadata": {},
   "outputs": [
    {
     "name": "stdout",
     "output_type": "stream",
     "text": [
      "<class 'dict'>\n",
      "First:['Simeon', 'Ade']\n",
      "Gender:Male\n",
      "Age:45\n"
     ]
    }
   ],
   "source": [
    "def details(**kwargs):\n",
    "    print(type(kwargs))\n",
    "    for key,value in kwargs.items():\n",
    "        print(f'{key}:{value}')\n",
    "details(First =['Simeon','Ade'],Gender = 'Male',Age = 45)"
   ]
  },
  {
   "cell_type": "code",
   "execution_count": null,
   "metadata": {},
   "outputs": [],
   "source": []
  }
 ],
 "metadata": {
  "kernelspec": {
   "display_name": "Python 3",
   "language": "python",
   "name": "python3"
  },
  "language_info": {
   "codemirror_mode": {
    "name": "ipython",
    "version": 3
   },
   "file_extension": ".py",
   "mimetype": "text/x-python",
   "name": "python",
   "nbconvert_exporter": "python",
   "pygments_lexer": "ipython3",
   "version": "3.8.5"
  }
 },
 "nbformat": 4,
 "nbformat_minor": 4
}

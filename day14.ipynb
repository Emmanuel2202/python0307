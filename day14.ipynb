{
 "cells": [
  {
   "cell_type": "code",
   "execution_count": 4,
   "metadata": {},
   "outputs": [
    {
     "name": "stdout",
     "output_type": "stream",
     "text": [
      "1.0\n"
     ]
    }
   ],
   "source": [
    "try:\n",
    "    num1 = int(input('Enter the first number'))\n",
    "    num2 = int(input('Enter the second number'))\n",
    "    print(num1/num2)\n",
    "except:\n",
    "    print('You have encountered one or more errors')"
   ]
  },
  {
   "cell_type": "code",
   "execution_count": 7,
   "metadata": {},
   "outputs": [
    {
     "name": "stdout",
     "output_type": "stream",
     "text": [
      "hey a number cannnot be divisible by zero\n"
     ]
    }
   ],
   "source": [
    "try:\n",
    "    num1 = int(input('Enter the first number'))\n",
    "    num2 = int(input('Enter the second number'))\n",
    "    print(num1/num2)\n",
    "except SyntaxError:\n",
    "    print('Hey one or more lines of code is having a syntax error')\n",
    "except EOFError:\n",
    "    print('Hey one of the bracket is missing')\n",
    "except ValueError:\n",
    "    print('You have entered a wrong value')\n",
    "except ZeroDivisionError:\n",
    "    print('hey a number cannnot be divisible by zero')\n",
    "except:\n",
    "   print('You have encountered one or more errors')"
   ]
  },
  {
   "cell_type": "code",
   "execution_count": 9,
   "metadata": {},
   "outputs": [
    {
     "name": "stdout",
     "output_type": "stream",
     "text": [
      "9.0\n",
      "184528125\n"
     ]
    }
   ],
   "source": [
    "try:\n",
    "    num1 = int(input('Enter the first number'))\n",
    "    num2 = int(input('Enter the second number'))\n",
    "    print(num1/num2)\n",
    "except SyntaxError:\n",
    "    print('Hey one or more lines of code is having a syntax error')\n",
    "except EOFError:\n",
    "    print('Hey one of the bracket is missing')\n",
    "except ValueError:\n",
    "    print('You have entered a wrong value')\n",
    "except ZeroDivisionError:\n",
    "    print('hey a number cannnot be divisible by zero')\n",
    "except:\n",
    "   print('You have encountered one or more errors')\n",
    "else:\n",
    "    print(num1 ** num2)"
   ]
  },
  {
   "cell_type": "code",
   "execution_count": 10,
   "metadata": {},
   "outputs": [
    {
     "name": "stdout",
     "output_type": "stream",
     "text": [
      "hey a number cannnot be divisible by zero\n",
      "End of program\n"
     ]
    }
   ],
   "source": [
    "try:\n",
    "    num1 = int(input('Enter the first number'))\n",
    "    num2 = int(input('Enter the second number'))\n",
    "    print(num1/num2)\n",
    "except SyntaxError:\n",
    "    print('Hey one or more lines of code is having a syntax error')\n",
    "except EOFError:\n",
    "    print('Hey one of the bracket is missing')\n",
    "except ValueError:\n",
    "    print('You have entered a wrong value')\n",
    "except ZeroDivisionError:\n",
    "    print('hey a number cannnot be divisible by zero')\n",
    "except:\n",
    "   print('You have encountered one or more errors')\n",
    "else:\n",
    "    print(num1 ** num2)\n",
    "finally:\n",
    "    print('End of program')"
   ]
  },
  {
   "cell_type": "code",
   "execution_count": null,
   "metadata": {},
   "outputs": [],
   "source": [
    "# using  error handling write a simple calculator tha will add,subtract,multiply and divide any two number a user provide "
   ]
  }
 ],
 "metadata": {
  "interpreter": {
   "hash": "9bf2ca0f4a7adc3ce2f237ca763c1538d3ef289a4e7face3612a01cdae9f6807"
  },
  "kernelspec": {
   "display_name": "Python 3.10.2 64-bit",
   "language": "python",
   "name": "python3"
  },
  "language_info": {
   "codemirror_mode": {
    "name": "ipython",
    "version": 3
   },
   "file_extension": ".py",
   "mimetype": "text/x-python",
   "name": "python",
   "nbconvert_exporter": "python",
   "pygments_lexer": "ipython3",
   "version": "3.10.2"
  },
  "orig_nbformat": 4
 },
 "nbformat": 4,
 "nbformat_minor": 2
}
